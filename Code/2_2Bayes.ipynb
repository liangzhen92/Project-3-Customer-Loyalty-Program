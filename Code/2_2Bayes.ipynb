{
 "cells": [
  {
   "cell_type": "code",
   "execution_count": 1,
   "metadata": {},
   "outputs": [],
   "source": [
    "import pickle\n",
    "import pandas as pd\n",
    "\n",
    "with open('my_dataframe_newfeatures.pickle','rb') as read_file:\n",
    "    df_target = pickle.load(read_file)"
   ]
  },
  {
   "cell_type": "code",
   "execution_count": 2,
   "metadata": {},
   "outputs": [],
   "source": [
    "import numpy as np\n",
    "\n",
    "def get_user_split_data(df, test_size=.2, seed=42):\n",
    "\n",
    "    rs = np.random.RandomState(seed)\n",
    "    \n",
    "    total_users = df['card_id'].unique() \n",
    "    test_users = rs.choice(total_users, \n",
    "                           size=int(total_users.shape[0] * test_size), \n",
    "                           replace=False)\n",
    "\n",
    "    df_tr = df[~df['card_id'].isin(test_users)]\n",
    "    df_te = df[df['card_id'].isin(test_users)] \n",
    "\n",
    "    y_tr, y_te = df_tr['target_binned'], df_te['target_binned']\n",
    "    X_tr = df_tr[['purchase_amount_month_mean','purchase_amount_month_count','installments','purchase_amount','category_2','feature_2_2', 'feature_2_3', 'feature_3_1','auth_flag_Y', 'month_diff', 'elapsed_time', 'order_freq', 'total_usage', 'amount_per_use']] \n",
    "    X_te = df_te[['purchase_amount_month_mean','purchase_amount_month_count','installments','purchase_amount','category_2','feature_2_2', 'feature_2_3', 'feature_3_1','auth_flag_Y', 'month_diff', 'elapsed_time', 'order_freq', 'total_usage', 'amount_per_use']] \n",
    "    \n",
    "    return X_tr, X_te, y_tr, y_te\n",
    "\n",
    "\n",
    "X_tr, X_te, y_tr, y_te = get_user_split_data(df_target)\n"
   ]
  },
  {
   "cell_type": "code",
   "execution_count": 3,
   "metadata": {},
   "outputs": [],
   "source": [
    "from sklearn.metrics import confusion_matrix  "
   ]
  },
  {
   "cell_type": "code",
   "execution_count": 4,
   "metadata": {},
   "outputs": [
    {
     "name": "stdout",
     "output_type": "stream",
     "text": [
      "0.6082917750556434\n"
     ]
    },
    {
     "data": {
      "text/plain": [
       "array([[  96363,  432461,   16807],\n",
       "       [ 179242, 1543815,   49520],\n",
       "       [  52553,  337328,   18203]])"
      ]
     },
     "execution_count": 4,
     "metadata": {},
     "output_type": "execute_result"
    }
   ],
   "source": [
    "# training a Naive Bayes classifier \n",
    "from sklearn.naive_bayes import GaussianNB \n",
    "from sklearn.metrics import precision_score, recall_score, accuracy_score, roc_auc_score\n",
    "\n",
    "gnb = GaussianNB().fit(X_tr, y_tr) \n",
    "gnb_predictions = gnb.predict(X_te) \n",
    "  \n",
    "# accuracy on X_test \n",
    "accuracy = gnb.score(X_te, y_te) \n",
    "print (accuracy) \n",
    "  \n",
    "# creating a confusion matrix \n",
    "cm = confusion_matrix(y_te, gnb_predictions) \n",
    "cm"
   ]
  },
  {
   "cell_type": "code",
   "execution_count": 5,
   "metadata": {},
   "outputs": [
    {
     "data": {
      "text/plain": [
       "0.6082917750556434"
      ]
     },
     "execution_count": 5,
     "metadata": {},
     "output_type": "execute_result"
    }
   ],
   "source": [
    "accuracy_score(gnb.predict(X_te), y_te)"
   ]
  },
  {
   "cell_type": "code",
   "execution_count": 6,
   "metadata": {},
   "outputs": [
    {
     "data": {
      "text/plain": [
       "0.2153436649710162"
      ]
     },
     "execution_count": 6,
     "metadata": {},
     "output_type": "execute_result"
    }
   ],
   "source": [
    "18203 / (16807 + 49520 + 18203)"
   ]
  },
  {
   "cell_type": "code",
   "execution_count": null,
   "metadata": {},
   "outputs": [],
   "source": []
  }
 ],
 "metadata": {
  "kernelspec": {
   "display_name": "Python 3",
   "language": "python",
   "name": "python3"
  },
  "language_info": {
   "codemirror_mode": {
    "name": "ipython",
    "version": 3
   },
   "file_extension": ".py",
   "mimetype": "text/x-python",
   "name": "python",
   "nbconvert_exporter": "python",
   "pygments_lexer": "ipython3",
   "version": "3.6.8"
  }
 },
 "nbformat": 4,
 "nbformat_minor": 2
}
