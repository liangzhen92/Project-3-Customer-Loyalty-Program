{
 "cells": [
  {
   "cell_type": "code",
   "execution_count": 1,
   "metadata": {},
   "outputs": [],
   "source": [
    "import pickle\n",
    "import pandas as pd\n",
    "\n",
    "with open('my_dataframe_newfeatures.pickle','rb') as read_file:\n",
    "    df_target = pickle.load(read_file)"
   ]
  },
  {
   "cell_type": "code",
   "execution_count": 2,
   "metadata": {},
   "outputs": [],
   "source": [
    "from sklearn.neighbors import KNeighborsClassifier\n",
    "from sklearn import metrics\n",
    "import matplotlib.pyplot as plt\n",
    "%matplotlib inline\n",
    "from sklearn.model_selection import cross_val_score\n",
    "from sklearn.model_selection import train_test_split\n",
    "from sklearn.metrics import precision_score, recall_score, accuracy_score, roc_auc_score\n",
    "from sklearn.metrics import confusion_matrix\n",
    "import numpy as np\n",
    "\n",
    "def get_user_split_data(df, test_size=.2, seed=42):\n",
    "\n",
    "    rs = np.random.RandomState(seed)\n",
    "    \n",
    "    total_users = df['card_id'].unique() \n",
    "    test_users = rs.choice(total_users, \n",
    "                           size=int(total_users.shape[0] * test_size), \n",
    "                           replace=False)\n",
    "\n",
    "    df_tr = df[~df['card_id'].isin(test_users)]\n",
    "    df_te = df[df['card_id'].isin(test_users)] \n",
    "\n",
    "    y_tr, y_te = df_tr['target_binned'], df_te['target_binned']\n",
    "    \n",
    "    X_tr = df_tr[['purchase_amount_month_mean','purchase_amount_month_count','installments','purchase_amount','category_2','feature_2_2', 'feature_2_3', 'feature_3_1','auth_flag_Y', 'month_diff', 'elapsed_time', 'order_freq', 'total_usage', 'amount_per_use']] \n",
    "    X_te = df_te[['purchase_amount_month_mean','purchase_amount_month_count','installments','purchase_amount','category_2','feature_2_2', 'feature_2_3', 'feature_3_1','auth_flag_Y', 'month_diff', 'elapsed_time', 'order_freq', 'total_usage', 'amount_per_use']] \n",
    "    \n",
    "    return X_tr, X_te, y_tr, y_te\n",
    "\n",
    "X_tr, X_te, y_tr, y_te = get_user_split_data(df_target)\n",
    "\n",
    "# training a KNN classifier \n",
    "# knn = KNeighborsClassifier(n_neighbors = 2).fit(X_tr, y_tr) \n",
    "  \n",
    "# # accuracy on X_test \n",
    "# accuracy = knn.score(X_te, y_te) \n",
    "# print (accuracy) \n",
    "  \n",
    "# # creating a confusion matrix \n",
    "# knn_predictions = knn.predict(X_te)  \n",
    "# cm = confusion_matrix(y_te, knn_predictions) \n"
   ]
  },
  {
   "cell_type": "code",
   "execution_count": 3,
   "metadata": {},
   "outputs": [],
   "source": [
    "# accuracy_score(knn.predict(X_te), y_te)"
   ]
  },
  {
   "cell_type": "code",
   "execution_count": 4,
   "metadata": {},
   "outputs": [],
   "source": [
    "# y_te_1 = y_te.iloc[:100, ]\n",
    "# X_te_1 = X_te.iloc[:100, ]\n",
    "# X_tr_1 = X_tr.iloc[:100000, ]\n",
    "# y_tr_1 = y_tr.iloc[:100000, ]"
   ]
  },
  {
   "cell_type": "code",
   "execution_count": 5,
   "metadata": {},
   "outputs": [],
   "source": [
    "from sklearn.neighbors import KDTree"
   ]
  },
  {
   "cell_type": "code",
   "execution_count": 6,
   "metadata": {},
   "outputs": [],
   "source": [
    "tree = KDTree(X_tr, leaf_size=3)"
   ]
  },
  {
   "cell_type": "code",
   "execution_count": null,
   "metadata": {},
   "outputs": [],
   "source": []
  }
 ],
 "metadata": {
  "kernelspec": {
   "display_name": "Python 3",
   "language": "python",
   "name": "python3"
  },
  "language_info": {
   "codemirror_mode": {
    "name": "ipython",
    "version": 3
   },
   "file_extension": ".py",
   "mimetype": "text/x-python",
   "name": "python",
   "nbconvert_exporter": "python",
   "pygments_lexer": "ipython3",
   "version": "3.6.8"
  }
 },
 "nbformat": 4,
 "nbformat_minor": 2
}
